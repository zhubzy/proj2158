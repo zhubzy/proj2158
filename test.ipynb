{
 "cells": [
  {
   "cell_type": "code",
   "execution_count": 100,
   "metadata": {},
   "outputs": [],
   "source": [
    "\n",
    "import gzip\n",
    "from collections import defaultdict\n",
    "import math\n",
    "import operator\n",
    "import scipy.optimize\n",
    "from sklearn import svm\n",
    "import numpy as np\n",
    "import string\n",
    "import random\n",
    "import string\n",
    "from sklearn import linear_model\n",
    "import warnings\n",
    "from nltk.corpus import stopwords\n",
    "from nltk.tokenize import word_tokenize\n",
    "import nltk\n",
    "import scipy\n",
    "import pandas as pd\n",
    "import numpy as np\n",
    "from matplotlib import pyplot as plt\n",
    "import numpy as np\n",
    "class Utilites:\n",
    "    def readGz(path):\n",
    "        for l in gzip.open(path, 'rt',encoding='utf-8'):\n",
    "            yield eval(l)\n",
    "\n",
    "    def punctuations():\n",
    "        return set(string.punctuation)\n",
    "\n",
    "    def readCSV(path):\n",
    "        f = gzip.open(path, 'rt')\n",
    "        f.readline()\n",
    "        for l in f:\n",
    "            u, b, r = l.strip().split(',')\n",
    "            r = int(r)\n",
    "            yield u, b, r\n",
    "\n",
    "    def Cosine(x1, x2):\n",
    "        numer = 0\n",
    "        norm1 = 0\n",
    "        norm2 = 0\n",
    "        for a1, a2 in zip(x1, x2):\n",
    "            numer += a1*a2\n",
    "            norm1 += a1**2\n",
    "            norm2 += a2**2\n",
    "        if norm1*norm2:\n",
    "            return numer / math.sqrt(norm1*norm2)\n",
    "        return 0\n",
    "\n",
    "    def calcAcc(y, predY):\n",
    "        assert( len(y) == len(predY))\n",
    "        correct = np.array(y) == np.array(predY)\n",
    "        return sum(correct) / len(correct)\n",
    "    \n",
    "\n"
   ]
  },
  {
   "cell_type": "code",
   "execution_count": 2,
   "metadata": {},
   "outputs": [],
   "source": [
    "users_review_data = []\n",
    "reviews_data = []\n",
    "users_items_data = []\n",
    "items_data = []\n",
    "bundle_data = []\n",
    "\n",
    "for d in Utilites.readGz(\"user_reviews.json.gz\"):\n",
    "    users_review_data.append(d)\n",
    "\n",
    "#for d in Utilites.readGz(\"/work/steam_reviews.json.gz\"):\n",
    "    #reviews_data.append(d)\n",
    "\n",
    "for d in Utilites.readGz(\"users_items.json.gz\"):\n",
    "    users_items_data.append(d)\n",
    "\n",
    "for d in Utilites.readGz(\"steam_games.json.gz\"):\n",
    "    items_data.append(d)\n",
    "\n",
    "for d in Utilites.readGz(\"bundle_data.json.gz\"):\n",
    "    bundle_data.append(d)"
   ]
  },
  {
   "cell_type": "code",
   "execution_count": 3,
   "metadata": {},
   "outputs": [
    {
     "name": "stdout",
     "output_type": "stream",
     "text": [
      "{'url': 'http://store.steampowered.com/', 'price': 19.99, 'discount_price': 14.99, 'early_access': False}\n",
      "{'publisher': 'Warner Bros. Interactive Entertainment, Feral Interactive (Mac)', 'genres': ['Action', 'Adventure'], 'app_name': 'Batman: Arkham City - Game of the Year Edition', 'sentiment': 'Overwhelmingly Positive', 'title': 'Batman: Arkham City - Game of the Year Edition', 'url': 'http://store.steampowered.com/app/200260', 'release_date': '2012-09-07', 'tags': ['Action', 'Open World', 'Batman', 'Adventure', 'Stealth', 'Third Person', 'Superhero', 'Singleplayer', \"Beat 'em up\", 'Comic Book', 'Detective', 'Fighting', 'Atmospheric', 'Story Rich', 'Action-Adventure', 'Cinematic', 'Controller', '3D Vision', 'Metroidvania', 'Sandbox'], 'metascore': 91, 'price': 19.99, 'early_access': False, 'specs': ['Single-player', 'Steam Achievements', 'Steam Trading Cards', 'Partial Controller Support', 'Steam Cloud'], 'developer': 'Rocksteady Studios,Feral Interactive (Mac)'}\n"
     ]
    }
   ],
   "source": [
    "users_items_train = []\n",
    "users_items_validation = []\n",
    "users_items_test = []\n",
    "users_per_item_train = defaultdict(set)\n",
    "items_per_user_train = defaultdict(set)\n",
    "times_per_game_total = defaultdict()\n",
    "times_per_game = defaultdict(list)\n",
    "\n",
    "\n",
    "for d in users_items_data:\n",
    "    games_played_by_user = d['items']\n",
    "    random.shuffle(games_played_by_user)\n",
    "\n",
    "    for i in range(len(games_played_by_user)):\n",
    "        times_per_game[games_played_by_user[i]['item_id']].append(\n",
    "            games_played_by_user[i]['playtime_forever'])\n",
    "        if(games_played_by_user[i]['item_id'] in times_per_game_total):\n",
    "            if(games_played_by_user[i]['playtime_forever'] != 0):\n",
    "                times_per_game_total[games_played_by_user[i]['item_id']][0] += games_played_by_user[i]['playtime_forever']\n",
    "                times_per_game_total[games_played_by_user[i]['item_id']][1] += 1\n",
    "        else:\n",
    "            times_per_game_total[games_played_by_user[i]['item_id']] = [games_played_by_user[i]['playtime_forever'],1]\n",
    "        if(i < len(games_played_by_user) * 0.6):\n",
    "            users_items_train.append((d['user_id'], games_played_by_user[i]))\n",
    "            items_per_user_train[d['user_id']].add((games_played_by_user[i]['item_id'],games_played_by_user[i]['playtime_forever'],games_played_by_user[i]['playtime_2weeks']))\n",
    "            users_per_item_train[games_played_by_user[i]['item_id']].add((d['user_id'],games_played_by_user[i]['playtime_forever'],games_played_by_user[i]['playtime_2weeks']))\n",
    "\n",
    "        elif(i < len(games_played_by_user) * 0.8):\n",
    "            users_items_validation.append((d['user_id'], games_played_by_user[i]))\n",
    "        else:\n",
    "            users_items_test.append((d['user_id'], games_played_by_user[i]))\n",
    "\n",
    "games = defaultdict()\n",
    "for d in items_data:\n",
    "    if(d.__contains__('id')):\n",
    "        games[d['id']] = d\n",
    "    else:\n",
    "        if(d['url'].split('/')[-1] != ''):\n",
    "            games[d['url'].split('/')[-1]] = d\n"
   ]
  },
  {
   "cell_type": "code",
   "execution_count": 4,
   "metadata": {},
   "outputs": [],
   "source": [
    "def prep_data(data):\n",
    "    x =[]\n",
    "    y = []\n",
    "    for user,gameInfo in data:\n",
    "        if(gameInfo['playtime_forever'] == 0): y.append(0)\n",
    "        elif(gameInfo['playtime_forever'] <= 45): y.append(1)\n",
    "        elif(gameInfo['playtime_forever'] <= 220): y.append(2)\n",
    "        elif(gameInfo['playtime_forever'] <= 840): y.append(3)\n",
    "        else: y.append(4)\n",
    "        x.append((user,gameInfo['item_id']))\n",
    "    return x, y"
   ]
  },
  {
   "cell_type": "code",
   "execution_count": 5,
   "metadata": {},
   "outputs": [],
   "source": [
    "trainX, trainY = prep_data(users_items_train)\n",
    "valX, valY = prep_data(users_items_validation)\n",
    "testX, testY = prep_data(users_items_test)"
   ]
  },
  {
   "cell_type": "markdown",
   "metadata": {},
   "source": [
    "#### Visualize the distribution of data (time played by player)"
   ]
  },
  {
   "cell_type": "code",
   "execution_count": 108,
   "metadata": {},
   "outputs": [
    {
     "data": {
      "text/plain": [
       "Text(0, 0.5, 'Number of players')"
      ]
     },
     "execution_count": 108,
     "metadata": {},
     "output_type": "execute_result"
    },
    {
     "data": {
      "image/png": "[encoded data removed]",
      "text/plain": [
       "<Figure size 1000x700 with 1 Axes>"
      ]
     },
     "metadata": {},
     "output_type": "display_data"
    }
   ],
   "source": [
    "\n",
    "a = np.array(trainY)\n",
    "plot, ax= plt.subplots(figsize =(10, 7))\n",
    "threshold = []\n",
    "for i in range(0,6,1):\n",
    "    threshold.append(i)\n",
    "plt.hist(a, bins=threshold,color = \"lightblue\", ec=\"red\")\n",
    "ax.set_xlabel(\"Play frequency\")\n",
    "ax.set_ylabel(\"Number of players\")\n"
   ]
  },
  {
   "cell_type": "code",
   "execution_count": 205,
   "metadata": {},
   "outputs": [
    {
     "name": "stdout",
     "output_type": "stream",
     "text": [
      "Game Lost Summoner Kitty ['Action', 'Casual', 'Indie', 'Simulation', 'Strategy'] \n",
      "Game Lost Summoner Kitty ['Action', 'Casual', 'Indie', 'Simulation', 'Strategy'] \n",
      "Game Lost Summoner Kitty ['Action', 'Casual', 'Indie', 'Simulation', 'Strategy'] \n",
      "Game Lost Summoner Kitty ['Action', 'Casual', 'Indie', 'Simulation', 'Strategy'] \n",
      "Game Lost Summoner Kitty ['Action', 'Casual', 'Indie', 'Simulation', 'Strategy'] \n",
      "Game Ironbound ['Free to Play', 'Indie', 'RPG', 'Strategy'] \n",
      "Game Ironbound ['Free to Play', 'Indie', 'RPG', 'Strategy'] \n",
      "Game Ironbound ['Free to Play', 'Indie', 'RPG', 'Strategy'] \n",
      "Game Ironbound ['Free to Play', 'Indie', 'RPG', 'Strategy'] \n",
      "Game Real Pool 3D - Poolians ['Casual', 'Free to Play', 'Indie', 'Simulation', 'Sports'] \n",
      "Game Real Pool 3D - Poolians ['Casual', 'Free to Play', 'Indie', 'Simulation', 'Sports'] \n",
      "Game Real Pool 3D - Poolians ['Casual', 'Free to Play', 'Indie', 'Simulation', 'Sports'] \n",
      "Game Real Pool 3D - Poolians ['Casual', 'Free to Play', 'Indie', 'Simulation', 'Sports'] \n",
      "Game Real Pool 3D - Poolians ['Casual', 'Free to Play', 'Indie', 'Simulation', 'Sports'] \n",
      "Game 弹炸人2222 ['Action', 'Adventure', 'Casual'] \n",
      "Game 弹炸人2222 ['Action', 'Adventure', 'Casual'] \n",
      "Game 弹炸人2222 ['Action', 'Adventure', 'Casual'] \n"
     ]
    },
    {
     "ename": "KeyError",
     "evalue": "'genres'",
     "output_type": "error",
     "traceback": [
      "\u001b[1;31m---------------------------------------------------------------------------\u001b[0m",
      "\u001b[1;31mKeyError\u001b[0m                                  Traceback (most recent call last)",
      "Cell \u001b[1;32mIn [205], line 8\u001b[0m\n\u001b[0;32m      6\u001b[0m timesPerGameMedian[game] \u001b[39m=\u001b[39m np\u001b[39m.\u001b[39mmedian(times_per_game[game])\n\u001b[0;32m      7\u001b[0m \u001b[39mfor\u001b[39;00m g \u001b[39min\u001b[39;00m games:\n\u001b[1;32m----> 8\u001b[0m     genres \u001b[39m=\u001b[39m games[g][\u001b[39m'\u001b[39m\u001b[39mgenres\u001b[39m\u001b[39m'\u001b[39m]\n\u001b[0;32m      9\u001b[0m     gameName \u001b[39m=\u001b[39m games[g][\u001b[39m'\u001b[39m\u001b[39mapp_name\u001b[39m\u001b[39m'\u001b[39m]\n\u001b[0;32m     10\u001b[0m     \u001b[39mfor\u001b[39;00m gameCategory \u001b[39min\u001b[39;00m genres:\n",
      "\u001b[1;31mKeyError\u001b[0m: 'genres'"
     ]
    }
   ],
   "source": [
    "timesPerGameMean = {}\n",
    "timesPerGameMedian = {}\n",
    "timesPerCategory = {}\n",
    "for game in times_per_game:\n",
    "    timesPerGameMean[game] = np.mean(times_per_game[game])\n",
    "    timesPerGameMedian[game] = np.median(times_per_game[game])\n",
    "    for g in games:\n",
    "        if('genres' in games[g]):\n",
    "            genres = games[g]['genres']\n",
    "        gameName = games[g]['app_name']\n",
    "        for gameCategory in genres:\n",
    "            print(f'Game {gameName} {genres} ')\n",
    "\n"
   ]
  },
  {
   "cell_type": "code",
   "execution_count": 184,
   "metadata": {},
   "outputs": [],
   "source": [
    "def evalModel(model, dataX, dataY, args=[]):\n",
    "    predY = model(dataX,args)\n",
    "    acc = Utilites.calcAcc(predY, dataY)\n",
    "    return acc"
   ]
  },
  {
   "cell_type": "markdown",
   "metadata": {},
   "source": [
    "##### Trivial Predictor (always predict that a user never plays the game)"
   ]
  },
  {
   "cell_type": "code",
   "execution_count": 198,
   "metadata": {},
   "outputs": [],
   "source": [
    "# Always predict that a user will never play a game\n",
    "def modelPredTrivial(data, args={}):\n",
    "    y_pred = [0] * len(data)\n",
    "    return y_pred"
   ]
  },
  {
   "cell_type": "markdown",
   "metadata": {},
   "source": [
    "##### Predict based on popularity of game (distance to mean time played)"
   ]
  },
  {
   "cell_type": "code",
   "execution_count": 199,
   "metadata": {},
   "outputs": [],
   "source": [
    "def modelPredPopularityDifference(data,args={'mode':\"mean\"}):\n",
    "    y_pred = []\n",
    "    threshold = np.array([0, 45,220,840, 1460])\n",
    "    for user, item in data:\n",
    "        if(args['mode'] == \"mean\"):\n",
    "            avg_time = timesPerGameMean[item]\n",
    "        else:\n",
    "            avg_time = timesPerGameMedian[item]\n",
    "        diff = np.abs(threshold - avg_time)\n",
    "        y_pred.append(np.argmin(diff))\n",
    "    return y_pred"
   ]
  },
  {
   "cell_type": "markdown",
   "metadata": {},
   "source": [
    "##### Predict based on popularity of game (based on paritcular threashold from mean time played)\n"
   ]
  },
  {
   "cell_type": "code",
   "execution_count": 200,
   "metadata": {},
   "outputs": [],
   "source": [
    "def modelPredPopularityThreashold(data, args={'mode':\"mean\"}):\n",
    "    y_pred = []\n",
    "    for user, item in data:\n",
    "        if(args['mode'] == \"mean\"):\n",
    "            avg_time = timesPerGameMean[item]\n",
    "        else:\n",
    "            avg_time = timesPerGameMedian[item]\n",
    "        if(avg_time < 20): \n",
    "            y_pred.append(0)\n",
    "        elif(0 < avg_time <= 45): y_pred.append(1)\n",
    "        elif(avg_time <= 220): y_pred.append(2)\n",
    "        elif(avg_time<= 840): y_pred.append(3)\n",
    "        else: y_pred.append(4)\n",
    "    return y_pred"
   ]
  },
  {
   "cell_type": "markdown",
   "metadata": {},
   "source": [
    "### Baseline prediction"
   ]
  },
  {
   "cell_type": "code",
   "execution_count": 201,
   "metadata": {},
   "outputs": [
    {
     "name": "stdout",
     "output_type": "stream",
     "text": [
      "Popularity predictor(difference) acc: 0.34064861790808004\n",
      "Popularity predictor(threashold) acc: 0.332386496854687\n",
      "Trivial predictor acc: 0.3638925056246477\n"
     ]
    }
   ],
   "source": [
    "args = {\"mode\":\"mean\"}\n",
    "# Predict based on popularity\n",
    "print(f'Popularity predictor(difference) acc: {evalModel(modelPredPopularityDifference,testX,testY,args)}')\n",
    "\n",
    "# Predict based on popularity\n",
    "print(f'Popularity predictor(threashold) acc: {evalModel(modelPredPopularityThreashold,testX,testY,args)}')\n",
    "\n",
    "# Predict that a player that bought the game will never play it\n",
    "print(f'Trivial predictor acc: {evalModel(modelPredTrivial,testX,testY,args)}')"
   ]
  },
  {
   "cell_type": "code",
   "execution_count": 202,
   "metadata": {},
   "outputs": [
    {
     "name": "stdout",
     "output_type": "stream",
     "text": [
      "Popularity predictor(difference) acc: 0.4154257521563228\n",
      "Popularity predictor(threashold) acc: 0.443338970452516\n",
      "Trivial predictor acc: 0.3638925056246477\n"
     ]
    }
   ],
   "source": [
    "args = {\"mode\":\"median\"}\n",
    "# Predict based on popularity\n",
    "print(f'Popularity predictor(difference) acc: {evalModel(modelPredPopularityDifference,testX,testY,args)}')\n",
    "\n",
    "# Predict based on popularity\n",
    "print(f'Popularity predictor(threashold) acc: {evalModel(modelPredPopularityThreashold,testX,testY,args)}')\n",
    "\n",
    "# Predict that a player that bought the game will never play it\n",
    "print(f'Trivial predictor acc: {evalModel(modelPredTrivial,testX,testY,args)}')\n"
   ]
  }
 ],
 "metadata": {
  "kernelspec": {
   "display_name": "Python 3.10.4 64-bit",
   "language": "python",
   "name": "python3"
  },
  "language_info": {
   "codemirror_mode": {
    "name": "ipython",
    "version": 3
   },
   "file_extension": ".py",
   "mimetype": "text/x-python",
   "name": "python",
   "nbconvert_exporter": "python",
   "pygments_lexer": "ipython3",
   "version": "3.10.4"
  },
  "orig_nbformat": 4,
  "vscode": {
   "interpreter": {
    "hash": "369f2c481f4da34e4445cda3fffd2e751bd1c4d706f27375911949ba6bb62e1c"
   }
  }
 },
 "nbformat": 4,
 "nbformat_minor": 2
}
